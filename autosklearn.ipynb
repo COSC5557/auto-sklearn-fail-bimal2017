{
 "cells": [
  {
   "cell_type": "code",
   "execution_count": 7,
   "id": "c11520ce",
   "metadata": {},
   "outputs": [
    {
     "name": "stdout",
     "output_type": "stream",
     "text": [
      "RF Accuracy 0.67\n"
     ]
    },
    {
     "name": "stderr",
     "output_type": "stream",
     "text": [
      "/home/bpandey/anaconda3/envs/pml-37/lib/python3.7/site-packages/autosklearn/data/target_validator.py:188: UserWarning: Fitting transformer with a pandas series which has the dtype category. Inverse transform may not be able preserve dtype when converting to np.ndarray\n",
      "  \"Fitting transformer with a pandas series which\"\n"
     ]
    },
    {
     "name": "stdout",
     "output_type": "stream",
     "text": [
      "[WARNING] [2024-05-03 10:02:48,486:Client-AutoML(1):95231c3a-0966-11ef-8dad-dd3ad089197f] Capping the per_run_time_limit to 149.0 to have time for a least 2 models in each process.\n",
      "AutoML Accuracy: 0.69\n"
     ]
    }
   ],
   "source": [
    "import sklearn.model_selection\n",
    "from sklearn.datasets import fetch_openml\n",
    "import sklearn.metrics\n",
    "from sklearn.metrics import accuracy_score\n",
    "from autosklearn.metrics import accuracy\n",
    "from sklearn.ensemble import RandomForestClassifier\n",
    "from sklearn.preprocessing import OneHotEncoder\n",
    "\n",
    "X, y = fetch_openml(data_id=40691, as_frame=True, return_X_y=True)\n",
    "\n",
    "X_train, X_test, y_train, y_test = sklearn.model_selection.train_test_split(X, y, random_state=42)\n",
    "\n",
    "clf = RandomForestClassifier(random_state=42)\n",
    "clf = clf.fit(X_train, y_train)\n",
    "y_hat = clf.predict(X_test)\n",
    "print(\"RF Accuracy\", sklearn.metrics.accuracy_score(y_test, y_hat))\n",
    "\n",
    "from autosklearn.classification import AutoSklearnClassifier\n",
    "\n",
    "\n",
    "automl = AutoSklearnClassifier(\n",
    "    time_left_for_this_task=300, \n",
    "    n_jobs=-1, \n",
    "    resampling_strategy=\"cv\",\n",
    "    resampling_strategy_arguments={\"folds\":5},\n",
    "    metric=accuracy\n",
    ")\n",
    "\n",
    "# Train auto-sklearn\n",
    "automl.fit(X_train, y_train)\n",
    "\n",
    "# Make predictions\n",
    "y_hat = automl.predict(X_test)\n",
    "\n",
    "# Evaluate accuracy\n",
    "print(\"AutoML Accuracy:\", accuracy_score(y_test, y_hat))"
   ]
  },
  {
   "cell_type": "markdown",
   "id": "e7292bb6",
   "metadata": {},
   "source": [
    "# This is to check if there need to be done preprocessing to increase accuracy"
   ]
  },
  {
   "cell_type": "code",
   "execution_count": 8,
   "id": "6fc3243f",
   "metadata": {},
   "outputs": [
    {
     "name": "stdout",
     "output_type": "stream",
     "text": [
      "RF Accuracy 0.67\n"
     ]
    },
    {
     "name": "stderr",
     "output_type": "stream",
     "text": [
      "/home/bpandey/anaconda3/envs/pml-37/lib/python3.7/site-packages/ipykernel_launcher.py:49: DeprecationWarning: `ensemble_size` has been deprecated, please use `ensemble_kwargs = {'ensemble_size': 10}`. Inserting `ensemble_size` into `ensemble_kwargs` for now. `ensemble_size` will be removed in auto-sklearn 0.16.\n",
      "/home/bpandey/anaconda3/envs/pml-37/lib/python3.7/site-packages/autosklearn/data/target_validator.py:188: UserWarning: Fitting transformer with a pandas series which has the dtype category. Inverse transform may not be able preserve dtype when converting to np.ndarray\n",
      "  \"Fitting transformer with a pandas series which\"\n"
     ]
    },
    {
     "name": "stdout",
     "output_type": "stream",
     "text": [
      "[WARNING] [2024-05-03 10:13:57,239:Client-AutoML(1):24a6c018-0968-11ef-8dad-dd3ad089197f] Capping the per_run_time_limit to 149.0 to have time for a least 2 models in each process.\n",
      "AutoML Accuracy: 0.6625\n"
     ]
    }
   ],
   "source": [
    "import numpy as np\n",
    "import pandas as pd\n",
    "from sklearn.ensemble import RandomForestClassifier\n",
    "from sklearn.model_selection import train_test_split\n",
    "from sklearn.datasets import fetch_openml\n",
    "from sklearn.metrics import accuracy_score\n",
    "from sklearn.impute import SimpleImputer\n",
    "from sklearn.preprocessing import OneHotEncoder, StandardScaler\n",
    "from autosklearn.classification import AutoSklearnClassifier\n",
    "from autosklearn.metrics import accuracy\n",
    "\n",
    "# Split the dataset into train and test sets\n",
    "X_train, X_test, y_train, y_test = train_test_split(X, y, random_state=42)\n",
    "clf = RandomForestClassifier(random_state=42)\n",
    "clf = clf.fit(X_train, y_train)\n",
    "y_hat = clf.predict(X_test)\n",
    "print(\"RF Accuracy\", sklearn.metrics.accuracy_score(y_test, y_hat))\n",
    "\n",
    "# Data Preprocessing\n",
    "imputer = SimpleImputer(strategy=\"mean\")\n",
    "X_train_imputed = imputer.fit_transform(X_train)\n",
    "X_test_imputed = imputer.transform(X_test)\n",
    "\n",
    "\n",
    "categorical_features = X_train.select_dtypes(include=[\"object\"]).columns.tolist()\n",
    "onehot_encoder = OneHotEncoder(sparse=False, handle_unknown=\"ignore\")\n",
    "X_train_encoded = onehot_encoder.fit_transform(X_train[categorical_features])\n",
    "X_test_encoded = onehot_encoder.transform(X_test[categorical_features])\n",
    "\n",
    "\n",
    "numerical_features = X_train.select_dtypes(include=np.number).columns.tolist()\n",
    "scaler = StandardScaler()\n",
    "X_train_scaled = scaler.fit_transform(X_train[numerical_features])\n",
    "X_test_scaled = scaler.transform(X_test[numerical_features])\n",
    "\n",
    "X_train_processed = np.hstack((X_train_encoded, X_train_scaled))\n",
    "X_test_processed = np.hstack((X_test_encoded, X_test_scaled))\n",
    "\n",
    "\n",
    "automl = AutoSklearnClassifier(\n",
    "    time_left_for_this_task=300,\n",
    "    n_jobs=-1,  \n",
    "    ensemble_size=10,  \n",
    "    initial_configurations_via_metalearning=0,\n",
    "    resampling_strategy=\"cv\",\n",
    "    resampling_strategy_arguments={\"folds\":5},\n",
    "    metric=accuracy\n",
    ")\n",
    "\n",
    "# Train auto-sklearn\n",
    "automl.fit(X_train_processed, y_train)\n",
    "\n",
    "# Make predictions\n",
    "y_hat = automl.predict(X_test_processed)\n",
    "\n",
    "# Evaluate accuracy\n",
    "print(\"AutoML Accuracy:\", accuracy_score(y_test, y_hat))\n"
   ]
  },
  {
   "cell_type": "code",
   "execution_count": null,
   "id": "83f326a7",
   "metadata": {},
   "outputs": [],
   "source": [
    "# Data preprocessing didn't increase the performance of the model."
   ]
  }
 ],
 "metadata": {
  "kernelspec": {
   "display_name": "Python 3 (ipykernel)",
   "language": "python",
   "name": "python3"
  },
  "language_info": {
   "codemirror_mode": {
    "name": "ipython",
    "version": 3
   },
   "file_extension": ".py",
   "mimetype": "text/x-python",
   "name": "python",
   "nbconvert_exporter": "python",
   "pygments_lexer": "ipython3",
   "version": "3.7.12"
  }
 },
 "nbformat": 4,
 "nbformat_minor": 5
}
